{
 "cells": [
  {
   "cell_type": "markdown",
   "metadata": {},
   "source": [
    "# III. Modeling"
   ]
  },
  {
   "cell_type": "code",
   "execution_count": 1,
   "metadata": {},
   "outputs": [],
   "source": [
    "# import libraries\n",
    "\n",
    "import pandas as pd\n",
    "import csv\n",
    "import matplotlib.pyplot as plt\n",
    "%matplotlib inline\n",
    "import seaborn as sns\n",
    "import numpy as np\n",
    "\n",
    "from sklearn.model_selection import train_test_split\n",
    "from sklearn.linear_model import LogisticRegression\n",
    "from sklearn.tree import DecisionTreeClassifier\n",
    "from sklearn.svm import SVC\n",
    "from sklearn.preprocessing import MinMaxScaler\n",
    "\n",
    "from sklearn.model_selection import GridSearchCV\n",
    "\n",
    "from sklearn.metrics import plot_confusion_matrix\n",
    "from sklearn.metrics import precision_score,recall_score,accuracy_score\n",
    "from sklearn.metrics import confusion_matrix,f1_score,classification_report,roc_curve,auc"
   ]
  },
  {
   "cell_type": "code",
   "execution_count": 2,
   "metadata": {},
   "outputs": [],
   "source": [
    "# Import data\n",
    "\n",
    "train_data = pd.read_csv('Data/Balanced_df',index_col=0) # balanced data where # of positive = # of negative\n",
    "test_data = pd.read_csv('Data/test.csv',index_col=0) # full data with class inbalance\n",
    "\n",
    "\n",
    "# normalizing the data\n",
    "\n",
    "train_data = train_data.apply(lambda x: (x - x.min(axis=0)) / (x.max(axis=0) - x.min(axis=0)))\n",
    "test_data = test_data.apply(lambda x: (x - x.min(axis=0)) / (x.max(axis=0) - x.min(axis=0)))"
   ]
  },
  {
   "cell_type": "code",
   "execution_count": 3,
   "metadata": {
    "scrolled": false
   },
   "outputs": [
    {
     "data": {
      "text/html": [
       "<div>\n",
       "<style scoped>\n",
       "    .dataframe tbody tr th:only-of-type {\n",
       "        vertical-align: middle;\n",
       "    }\n",
       "\n",
       "    .dataframe tbody tr th {\n",
       "        vertical-align: top;\n",
       "    }\n",
       "\n",
       "    .dataframe thead th {\n",
       "        text-align: right;\n",
       "    }\n",
       "</style>\n",
       "<table border=\"1\" class=\"dataframe\">\n",
       "  <thead>\n",
       "    <tr style=\"text-align: right;\">\n",
       "      <th></th>\n",
       "      <th>points</th>\n",
       "      <th>total_rebounds</th>\n",
       "      <th>assists</th>\n",
       "      <th>blocks</th>\n",
       "      <th>true_shooting_percentage</th>\n",
       "      <th>weight</th>\n",
       "      <th>height</th>\n",
       "      <th>target</th>\n",
       "      <th>position_Forward</th>\n",
       "      <th>position_Guard</th>\n",
       "    </tr>\n",
       "  </thead>\n",
       "  <tbody>\n",
       "    <tr>\n",
       "      <th>17991</th>\n",
       "      <td>0.186209</td>\n",
       "      <td>0.112110</td>\n",
       "      <td>0.075103</td>\n",
       "      <td>0.044326</td>\n",
       "      <td>0.823729</td>\n",
       "      <td>0.264706</td>\n",
       "      <td>0.50</td>\n",
       "      <td>1.0</td>\n",
       "      <td>0.0</td>\n",
       "      <td>1.0</td>\n",
       "    </tr>\n",
       "    <tr>\n",
       "      <th>23510</th>\n",
       "      <td>0.464569</td>\n",
       "      <td>0.490408</td>\n",
       "      <td>0.264403</td>\n",
       "      <td>0.125887</td>\n",
       "      <td>0.745763</td>\n",
       "      <td>0.400000</td>\n",
       "      <td>0.50</td>\n",
       "      <td>1.0</td>\n",
       "      <td>0.0</td>\n",
       "      <td>1.0</td>\n",
       "    </tr>\n",
       "    <tr>\n",
       "      <th>29886</th>\n",
       "      <td>0.525898</td>\n",
       "      <td>0.155875</td>\n",
       "      <td>0.114198</td>\n",
       "      <td>0.047872</td>\n",
       "      <td>0.849153</td>\n",
       "      <td>0.382353</td>\n",
       "      <td>0.45</td>\n",
       "      <td>1.0</td>\n",
       "      <td>0.0</td>\n",
       "      <td>1.0</td>\n",
       "    </tr>\n",
       "    <tr>\n",
       "      <th>17151</th>\n",
       "      <td>0.319670</td>\n",
       "      <td>0.157074</td>\n",
       "      <td>0.174897</td>\n",
       "      <td>0.023050</td>\n",
       "      <td>0.691525</td>\n",
       "      <td>0.264706</td>\n",
       "      <td>0.45</td>\n",
       "      <td>1.0</td>\n",
       "      <td>0.0</td>\n",
       "      <td>1.0</td>\n",
       "    </tr>\n",
       "    <tr>\n",
       "      <th>18192</th>\n",
       "      <td>0.227836</td>\n",
       "      <td>0.108513</td>\n",
       "      <td>0.081276</td>\n",
       "      <td>0.019504</td>\n",
       "      <td>0.750847</td>\n",
       "      <td>0.335294</td>\n",
       "      <td>0.50</td>\n",
       "      <td>1.0</td>\n",
       "      <td>0.0</td>\n",
       "      <td>1.0</td>\n",
       "    </tr>\n",
       "  </tbody>\n",
       "</table>\n",
       "</div>"
      ],
      "text/plain": [
       "         points  total_rebounds   assists    blocks  true_shooting_percentage  \\\n",
       "17991  0.186209        0.112110  0.075103  0.044326                  0.823729   \n",
       "23510  0.464569        0.490408  0.264403  0.125887                  0.745763   \n",
       "29886  0.525898        0.155875  0.114198  0.047872                  0.849153   \n",
       "17151  0.319670        0.157074  0.174897  0.023050                  0.691525   \n",
       "18192  0.227836        0.108513  0.081276  0.019504                  0.750847   \n",
       "\n",
       "         weight  height  target  position_Forward  position_Guard  \n",
       "17991  0.264706    0.50     1.0               0.0             1.0  \n",
       "23510  0.400000    0.50     1.0               0.0             1.0  \n",
       "29886  0.382353    0.45     1.0               0.0             1.0  \n",
       "17151  0.264706    0.45     1.0               0.0             1.0  \n",
       "18192  0.335294    0.50     1.0               0.0             1.0  "
      ]
     },
     "execution_count": 3,
     "metadata": {},
     "output_type": "execute_result"
    }
   ],
   "source": [
    "train_data.head()"
   ]
  },
  {
   "cell_type": "code",
   "execution_count": 4,
   "metadata": {
    "scrolled": true
   },
   "outputs": [
    {
     "data": {
      "text/html": [
       "<div>\n",
       "<style scoped>\n",
       "    .dataframe tbody tr th:only-of-type {\n",
       "        vertical-align: middle;\n",
       "    }\n",
       "\n",
       "    .dataframe tbody tr th {\n",
       "        vertical-align: top;\n",
       "    }\n",
       "\n",
       "    .dataframe thead th {\n",
       "        text-align: right;\n",
       "    }\n",
       "</style>\n",
       "<table border=\"1\" class=\"dataframe\">\n",
       "  <thead>\n",
       "    <tr style=\"text-align: right;\">\n",
       "      <th></th>\n",
       "      <th>points</th>\n",
       "      <th>total_rebounds</th>\n",
       "      <th>assists</th>\n",
       "      <th>blocks</th>\n",
       "      <th>true_shooting_percentage</th>\n",
       "      <th>weight</th>\n",
       "      <th>height</th>\n",
       "      <th>target</th>\n",
       "      <th>position_Forward</th>\n",
       "      <th>position_Guard</th>\n",
       "    </tr>\n",
       "  </thead>\n",
       "  <tbody>\n",
       "    <tr>\n",
       "      <th>0</th>\n",
       "      <td>0.015199</td>\n",
       "      <td>0.018530</td>\n",
       "      <td>0.011650</td>\n",
       "      <td>0.001773</td>\n",
       "      <td>0.464000</td>\n",
       "      <td>0.368030</td>\n",
       "      <td>0.535714</td>\n",
       "      <td>0.0</td>\n",
       "      <td>1.0</td>\n",
       "      <td>0.0</td>\n",
       "    </tr>\n",
       "    <tr>\n",
       "      <th>2</th>\n",
       "      <td>0.203164</td>\n",
       "      <td>0.148834</td>\n",
       "      <td>0.157282</td>\n",
       "      <td>0.021277</td>\n",
       "      <td>0.428444</td>\n",
       "      <td>0.368030</td>\n",
       "      <td>0.500000</td>\n",
       "      <td>0.0</td>\n",
       "      <td>0.0</td>\n",
       "      <td>1.0</td>\n",
       "    </tr>\n",
       "    <tr>\n",
       "      <th>3</th>\n",
       "      <td>0.041873</td>\n",
       "      <td>0.052002</td>\n",
       "      <td>0.031068</td>\n",
       "      <td>0.008865</td>\n",
       "      <td>0.435556</td>\n",
       "      <td>0.442379</td>\n",
       "      <td>0.642857</td>\n",
       "      <td>0.0</td>\n",
       "      <td>1.0</td>\n",
       "      <td>0.0</td>\n",
       "    </tr>\n",
       "    <tr>\n",
       "      <th>5</th>\n",
       "      <td>0.021092</td>\n",
       "      <td>0.008966</td>\n",
       "      <td>0.033981</td>\n",
       "      <td>0.000000</td>\n",
       "      <td>0.388444</td>\n",
       "      <td>0.219331</td>\n",
       "      <td>0.285714</td>\n",
       "      <td>0.0</td>\n",
       "      <td>0.0</td>\n",
       "      <td>1.0</td>\n",
       "    </tr>\n",
       "    <tr>\n",
       "      <th>8</th>\n",
       "      <td>0.035360</td>\n",
       "      <td>0.068141</td>\n",
       "      <td>0.027184</td>\n",
       "      <td>0.008865</td>\n",
       "      <td>0.365333</td>\n",
       "      <td>0.368030</td>\n",
       "      <td>0.571429</td>\n",
       "      <td>0.0</td>\n",
       "      <td>1.0</td>\n",
       "      <td>0.0</td>\n",
       "    </tr>\n",
       "  </tbody>\n",
       "</table>\n",
       "</div>"
      ],
      "text/plain": [
       "     points  total_rebounds   assists    blocks  true_shooting_percentage  \\\n",
       "0  0.015199        0.018530  0.011650  0.001773                  0.464000   \n",
       "2  0.203164        0.148834  0.157282  0.021277                  0.428444   \n",
       "3  0.041873        0.052002  0.031068  0.008865                  0.435556   \n",
       "5  0.021092        0.008966  0.033981  0.000000                  0.388444   \n",
       "8  0.035360        0.068141  0.027184  0.008865                  0.365333   \n",
       "\n",
       "     weight    height  target  position_Forward  position_Guard  \n",
       "0  0.368030  0.535714     0.0               1.0             0.0  \n",
       "2  0.368030  0.500000     0.0               0.0             1.0  \n",
       "3  0.442379  0.642857     0.0               1.0             0.0  \n",
       "5  0.219331  0.285714     0.0               0.0             1.0  \n",
       "8  0.368030  0.571429     0.0               1.0             0.0  "
      ]
     },
     "execution_count": 4,
     "metadata": {},
     "output_type": "execute_result"
    }
   ],
   "source": [
    "test_data.head()"
   ]
  },
  {
   "cell_type": "code",
   "execution_count": 5,
   "metadata": {},
   "outputs": [],
   "source": [
    "#seperating the data\n",
    "\n",
    "# Training\n",
    "X_train = train_data.drop('target',axis=1)\n",
    "y_train = train_data['target']\n",
    "\n",
    "# Testing \n",
    "x_test = test_data.drop('target',axis=1)\n",
    "y_test = test_data['target']"
   ]
  },
  {
   "cell_type": "markdown",
   "metadata": {},
   "source": [
    "## Logistic Regression"
   ]
  },
  {
   "cell_type": "code",
   "execution_count": 6,
   "metadata": {},
   "outputs": [
    {
     "data": {
      "text/plain": [
       "LogisticRegression(fit_intercept=False, random_state=4, solver='liblinear')"
      ]
     },
     "execution_count": 6,
     "metadata": {},
     "output_type": "execute_result"
    }
   ],
   "source": [
    "# logreg = LogisticRegression(fit_intercept=False,C=1e12,max_iter=2000)\n",
    "logreg = LogisticRegression(fit_intercept=False,solver='liblinear',random_state=4)\n",
    "model_log = logreg.fit(X_train,y_train)\n",
    "model_log"
   ]
  },
  {
   "cell_type": "code",
   "execution_count": 7,
   "metadata": {},
   "outputs": [],
   "source": [
    "# models predicted values\n",
    "logpred_test = logreg.predict(x_test)\n",
    "logpred_train = logreg.predict(X_train)"
   ]
  },
  {
   "cell_type": "code",
   "execution_count": 8,
   "metadata": {},
   "outputs": [
    {
     "name": "stdout",
     "output_type": "stream",
     "text": [
      "0.0    1103\n",
      "1.0     419\n",
      "Name: target, dtype: int64\n",
      "0.0    0.724704\n",
      "1.0    0.275296\n",
      "Name: target, dtype: float64\n"
     ]
    }
   ],
   "source": [
    "# We could subtract the two columns. If values are equal, difference will be zero. Then count number of zeros \n",
    "\n",
    "residuals = np.abs(y_train - logpred_train)\n",
    "print(pd.Series(residuals).value_counts())\n",
    "print(pd.Series(residuals).value_counts(normalize=True))"
   ]
  },
  {
   "cell_type": "code",
   "execution_count": 9,
   "metadata": {},
   "outputs": [
    {
     "name": "stdout",
     "output_type": "stream",
     "text": [
      "0.0    16070\n",
      "1.0     6872\n",
      "Name: target, dtype: int64\n",
      "0.0    0.700462\n",
      "1.0    0.299538\n",
      "Name: target, dtype: float64\n"
     ]
    }
   ],
   "source": [
    "residuals = np.abs(y_test - logpred_test)\n",
    "print(pd.Series(residuals).value_counts())\n",
    "print(pd.Series(residuals).value_counts(normalize=True))"
   ]
  },
  {
   "cell_type": "code",
   "execution_count": 10,
   "metadata": {},
   "outputs": [
    {
     "data": {
      "text/plain": [
       "array([[542, 219],\n",
       "       [200, 561]], dtype=int64)"
      ]
     },
     "execution_count": 10,
     "metadata": {},
     "output_type": "execute_result"
    }
   ],
   "source": [
    "# cf on training data\n",
    "\n",
    "cf = confusion_matrix(y_train, logpred_train)\n",
    "cf"
   ]
  },
  {
   "cell_type": "code",
   "execution_count": 11,
   "metadata": {},
   "outputs": [
    {
     "data": {
      "image/png": "[encoded data removed]",
      "text/plain": [
       "<Figure size 432x288 with 2 Axes>"
      ]
     },
     "metadata": {
      "needs_background": "light"
     },
     "output_type": "display_data"
    }
   ],
   "source": [
    "# heat meat for vis\n",
    "plt.title('Train data')\n",
    "sns.heatmap(cf,annot=True,annot_kws={'size':16},fmt='g')\n",
    "plt.xlabel('Pred')\n",
    "plt.ylabel('Actual');"
   ]
  },
  {
   "cell_type": "code",
   "execution_count": 12,
   "metadata": {},
   "outputs": [
    {
     "data": {
      "text/plain": [
       "array([[15486,  6695],\n",
       "       [  177,   584]], dtype=int64)"
      ]
     },
     "execution_count": 12,
     "metadata": {},
     "output_type": "execute_result"
    }
   ],
   "source": [
    "# cf on test data\n",
    "\n",
    "cf = confusion_matrix(y_test, logpred_test)\n",
    "cf"
   ]
  },
  {
   "cell_type": "code",
   "execution_count": 13,
   "metadata": {
    "scrolled": true
   },
   "outputs": [
    {
     "data": {
      "image/png": "[encoded data removed]",
      "text/plain": [
       "<Figure size 432x288 with 2 Axes>"
      ]
     },
     "metadata": {
      "needs_background": "light"
     },
     "output_type": "display_data"
    }
   ],
   "source": [
    "# heat meat for vis\n",
    "plt.title('Test data')\n",
    "sns.heatmap(cf,annot=True,annot_kws={'size':16},fmt='g')\n",
    "plt.xlabel('Pred')\n",
    "plt.ylabel('Actual');"
   ]
  },
  {
   "cell_type": "markdown",
   "metadata": {},
   "source": [
    "Focusing sololy on our testing data, the logistic regression model was able to correctly predict 16070 players correctly(15486 undrafted/584 drafted)"
   ]
  },
  {
   "cell_type": "code",
   "execution_count": 14,
   "metadata": {},
   "outputs": [
    {
     "name": "stdout",
     "output_type": "stream",
     "text": [
      "              precision    recall  f1-score   support\n",
      "\n",
      "         0.0       0.99      0.70      0.82     22181\n",
      "         1.0       0.08      0.77      0.15       761\n",
      "\n",
      "    accuracy                           0.70     22942\n",
      "   macro avg       0.53      0.73      0.48     22942\n",
      "weighted avg       0.96      0.70      0.80     22942\n",
      "\n",
      "Accuracy Score : 0.7004620346961904\n"
     ]
    }
   ],
   "source": [
    "# model evaluation\n",
    "\n",
    "print(classification_report(y_test,logpred_test))\n",
    "\n",
    "print('Accuracy Score : ' + str(accuracy_score(y_test,logpred_test)))"
   ]
  },
  {
   "cell_type": "code",
   "execution_count": 15,
   "metadata": {
    "scrolled": false
   },
   "outputs": [
    {
     "name": "stdout",
     "output_type": "stream",
     "text": [
      "AUC: 0.8101681773434793\n"
     ]
    },
    {
     "data": {
      "image/png": "[encoded data removed]",
      "text/plain": [
       "<Figure size 720x576 with 1 Axes>"
      ]
     },
     "metadata": {
      "needs_background": "light"
     },
     "output_type": "display_data"
    }
   ],
   "source": [
    "y_score = logreg.fit(X_train, y_train).decision_function(x_test)\n",
    "\n",
    "fpr, tpr, thresholds = roc_curve(y_test, y_score)\n",
    "\n",
    "print('AUC: {}'.format(auc(fpr, tpr)))\n",
    "\n",
    "plt.figure(figsize=(10, 8))\n",
    "lw = 2\n",
    "plt.plot(fpr, tpr, color='darkorange',\n",
    "         lw=lw, label='ROC curve')\n",
    "plt.plot([0, 1], [0, 1], color='navy', lw=lw, linestyle='--')\n",
    "plt.xlim([0.0, 1.0])\n",
    "plt.ylim([0.0, 1.05])\n",
    "plt.yticks([i/20.0 for i in range(21)])\n",
    "plt.xticks([i/20.0 for i in range(21)])\n",
    "plt.xlabel('False Positive Rate')\n",
    "plt.ylabel('True Positive Rate')\n",
    "plt.title('Receiver operating characteristic (ROC) Curve')\n",
    "plt.legend(loc='lower right')\n",
    "plt.show()"
   ]
  },
  {
   "cell_type": "markdown",
   "metadata": {},
   "source": [
    "### Model Evaluation"
   ]
  },
  {
   "cell_type": "markdown",
   "metadata": {},
   "source": [
    "After training the model on a  balanced dataset, equal # of drafted & undrafted players, the model had an accuracy of 70%. Of course heavily skewed because majority of the data is classified as undrafted.Since the motivation of this project is focused on predicting Drafted players correctly i think focusing on the percision of the predicted drafted results is more important. In this case our logistic regression model was only able to correctly predict 8% of drafted players correctly."
   ]
  },
  {
   "cell_type": "markdown",
   "metadata": {},
   "source": [
    "## Support Vector Machine"
   ]
  },
  {
   "cell_type": "code",
   "execution_count": 16,
   "metadata": {},
   "outputs": [],
   "source": [
    "svm = SVC(random_state=4)"
   ]
  },
  {
   "cell_type": "code",
   "execution_count": 17,
   "metadata": {
    "scrolled": false
   },
   "outputs": [
    {
     "data": {
      "text/plain": [
       "SVC(random_state=4)"
      ]
     },
     "execution_count": 17,
     "metadata": {},
     "output_type": "execute_result"
    }
   ],
   "source": [
    "svm.fit(X_train,y_train)"
   ]
  },
  {
   "cell_type": "code",
   "execution_count": 18,
   "metadata": {},
   "outputs": [
    {
     "data": {
      "image/png": "[encoded data removed]",
      "text/plain": [
       "<Figure size 432x288 with 2 Axes>"
      ]
     },
     "metadata": {
      "needs_background": "light"
     },
     "output_type": "display_data"
    }
   ],
   "source": [
    "plot_confusion_matrix(svm,x_test,y_test,display_labels=['Undrafted','Drafted'])\n",
    "plt.xlabel('Pred')\n",
    "plt.ylabel('Actual')\n",
    "\n",
    "#save png\n",
    "plt.savefig('Images/svm_cf_train');"
   ]
  },
  {
   "cell_type": "code",
   "execution_count": 19,
   "metadata": {},
   "outputs": [
    {
     "data": {
      "text/plain": [
       "0.9363176706477203"
      ]
     },
     "execution_count": 19,
     "metadata": {},
     "output_type": "execute_result"
    }
   ],
   "source": [
    "svm.score(x_test,y_test)"
   ]
  },
  {
   "cell_type": "markdown",
   "metadata": {},
   "source": [
    "### Cross Validation and GridSearchCV()"
   ]
  },
  {
   "cell_type": "code",
   "execution_count": 20,
   "metadata": {
    "scrolled": true
   },
   "outputs": [
    {
     "name": "stdout",
     "output_type": "stream",
     "text": [
      "{'C': 1000, 'gamma': 0.1}\n"
     ]
    }
   ],
   "source": [
    "param_grid = [{'C': [0.5,10,100,1000],\n",
    "               'gamma' : [1,0.1,0.001,0.0001]}]\n",
    "\n",
    "optimal_params = GridSearchCV(SVC(),param_grid,cv=5)\n",
    "\n",
    "optimal_params.fit(X_train,y_train)\n",
    "print(optimal_params.best_params_)"
   ]
  },
  {
   "cell_type": "markdown",
   "metadata": {},
   "source": [
    "This tells us that we will get our best results by setting the params of our SVC model to C = 1000 and gamma = 0.1"
   ]
  },
  {
   "cell_type": "code",
   "execution_count": 21,
   "metadata": {},
   "outputs": [
    {
     "data": {
      "text/plain": [
       "SVC(C=1000, gamma=0.1, random_state=4)"
      ]
     },
     "execution_count": 21,
     "metadata": {},
     "output_type": "execute_result"
    }
   ],
   "source": [
    "# Train another support vector machine with the optimized params\n",
    "\n",
    "svm_optimized = SVC(random_state=4,C=1000,gamma=0.1)\n",
    "svm_optimized.fit(X_train,y_train)"
   ]
  },
  {
   "cell_type": "code",
   "execution_count": 22,
   "metadata": {},
   "outputs": [
    {
     "data": {
      "image/png": "[encoded data removed]",
      "text/plain": [
       "<Figure size 432x288 with 2 Axes>"
      ]
     },
     "metadata": {
      "needs_background": "light"
     },
     "output_type": "display_data"
    }
   ],
   "source": [
    "plot_confusion_matrix(svm_optimized,x_test,y_test,display_labels=['Undrafted','Drafted'])\n",
    "plt.xlabel('Pred')\n",
    "plt.ylabel('Actual')\n",
    "\n",
    "#save png\n",
    "plt.savefig('Images/svm_cf_test');"
   ]
  },
  {
   "cell_type": "code",
   "execution_count": 23,
   "metadata": {},
   "outputs": [
    {
     "data": {
      "text/plain": [
       "0.9561938802196844"
      ]
     },
     "execution_count": 23,
     "metadata": {},
     "output_type": "execute_result"
    }
   ],
   "source": [
    "svm_optimized.score(x_test,y_test)"
   ]
  },
  {
   "cell_type": "code",
   "execution_count": 30,
   "metadata": {},
   "outputs": [
    {
     "name": "stdout",
     "output_type": "stream",
     "text": [
      "              precision    recall  f1-score   support\n",
      "\n",
      "         0.0       0.97      0.98      0.98     22181\n",
      "         1.0       0.28      0.20      0.24       761\n",
      "\n",
      "    accuracy                           0.96     22942\n",
      "   macro avg       0.63      0.59      0.61     22942\n",
      "weighted avg       0.95      0.96      0.95     22942\n",
      "\n"
     ]
    }
   ],
   "source": [
    "svmpred_test = svm_optimized.predict(x_test)\n",
    "\n",
    "svm_report = classification_report(y_test,svmpred_test)\n",
    "print(svm_report)"
   ]
  },
  {
   "cell_type": "code",
   "execution_count": 26,
   "metadata": {},
   "outputs": [
    {
     "name": "stdout",
     "output_type": "stream",
     "text": [
      "AUC: 0.865149885889837\n"
     ]
    },
    {
     "data": {
      "image/png": "[encoded data removed]",
      "text/plain": [
       "<Figure size 720x576 with 1 Axes>"
      ]
     },
     "metadata": {
      "needs_background": "light"
     },
     "output_type": "display_data"
    }
   ],
   "source": [
    "y_score = svm_optimized.fit(X_train, y_train).decision_function(x_test)\n",
    "\n",
    "fpr, tpr, thresholds = roc_curve(y_test, y_score)\n",
    "\n",
    "print('AUC: {}'.format(auc(fpr, tpr)))\n",
    "\n",
    "fig = plt.figure(figsize=(10, 8))\n",
    "lw = 2\n",
    "plt.plot(fpr, tpr, color='darkorange',\n",
    "         lw=lw, label='ROC curve')\n",
    "plt.plot([0, 1], [0, 1], color='navy', lw=lw, linestyle='--')\n",
    "plt.xlim([0.0, 1.0])\n",
    "plt.ylim([0.0, 1.05])\n",
    "plt.yticks([i/20.0 for i in range(21)])\n",
    "plt.xticks([i/20.0 for i in range(21)])\n",
    "plt.xlabel('False Positive Rate')\n",
    "plt.ylabel('True Positive Rate')\n",
    "plt.title('Receiver operating characteristic (ROC) Curve')\n",
    "plt.legend(loc='lower right')\n",
    "plt.show()\n",
    "\n",
    "# save png\n",
    "fig.savefig('Images/SVM_ROC')"
   ]
  },
  {
   "cell_type": "markdown",
   "metadata": {},
   "source": [
    "### Model Evaluation"
   ]
  },
  {
   "cell_type": "markdown",
   "metadata": {},
   "source": [
    "Again we should be focusing on the percision success of the model as a evaluation of the model. Since predicting those that were drafted is the goal, percision ( TP/ TP+FP) is most important. SVM was able to predict 28% of drafted players correctly."
   ]
  }
 ],
 "metadata": {
  "kernelspec": {
   "display_name": "Python 3",
   "language": "python",
   "name": "python3"
  },
  "language_info": {
   "codemirror_mode": {
    "name": "ipython",
    "version": 3
   },
   "file_extension": ".py",
   "mimetype": "text/x-python",
   "name": "python",
   "nbconvert_exporter": "python",
   "pygments_lexer": "ipython3",
   "version": "3.8.3"
  }
 },
 "nbformat": 4,
 "nbformat_minor": 4
}
