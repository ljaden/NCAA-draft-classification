{
 "cells": [
  {
   "cell_type": "markdown",
   "metadata": {},
   "source": [
    "# III. Modeling"
   ]
  },
  {
   "cell_type": "code",
   "execution_count": 1,
   "metadata": {},
   "outputs": [],
   "source": [
    "# import libraries\n",
    "\n",
    "import pandas as pd\n",
    "import csv\n",
    "import matplotlib.pyplot as plt\n",
    "%matplotlib inline\n",
    "import seaborn as sns\n",
    "import numpy as np\n",
    "\n",
    "from sklearn.model_selection import train_test_split\n",
    "from sklearn.linear_model import LogisticRegression\n",
    "from sklearn.tree import DecisionTreeClassifier\n",
    "from sklearn.svm import SVC\n",
    "from sklearn.preprocessing import MinMaxScaler\n",
    "\n",
    "from sklearn.model_selection import GridSearchCV\n",
    "\n",
    "from sklearn.metrics import plot_confusion_matrix\n",
    "from sklearn.metrics import precision_score,recall_score,accuracy_score\n",
    "from sklearn.metrics import confusion_matrix,f1_score,classification_report,roc_curve,auc"
   ]
  },
  {
   "cell_type": "code",
   "execution_count": 2,
   "metadata": {},
   "outputs": [],
   "source": [
    "# Import data\n",
    "\n",
    "df = pd.read_csv('Data/Balanced_df',index_col=0)"
   ]
  },
  {
   "cell_type": "code",
   "execution_count": 3,
   "metadata": {
    "scrolled": true
   },
   "outputs": [
    {
     "data": {
      "text/html": [
       "<div>\n",
       "<style scoped>\n",
       "    .dataframe tbody tr th:only-of-type {\n",
       "        vertical-align: middle;\n",
       "    }\n",
       "\n",
       "    .dataframe tbody tr th {\n",
       "        vertical-align: top;\n",
       "    }\n",
       "\n",
       "    .dataframe thead th {\n",
       "        text-align: right;\n",
       "    }\n",
       "</style>\n",
       "<table border=\"1\" class=\"dataframe\">\n",
       "  <thead>\n",
       "    <tr style=\"text-align: right;\">\n",
       "      <th></th>\n",
       "      <th>points</th>\n",
       "      <th>total_rebounds</th>\n",
       "      <th>assists</th>\n",
       "      <th>blocks</th>\n",
       "      <th>true_shooting_percentage</th>\n",
       "      <th>weight</th>\n",
       "      <th>height</th>\n",
       "      <th>target</th>\n",
       "      <th>position_Forward</th>\n",
       "      <th>position_Guard</th>\n",
       "    </tr>\n",
       "  </thead>\n",
       "  <tbody>\n",
       "    <tr>\n",
       "      <th>17991</th>\n",
       "      <td>589.0</td>\n",
       "      <td>192.0</td>\n",
       "      <td>73.0</td>\n",
       "      <td>25.0</td>\n",
       "      <td>0.633</td>\n",
       "      <td>195.0</td>\n",
       "      <td>77.0</td>\n",
       "      <td>1</td>\n",
       "      <td>0</td>\n",
       "      <td>1</td>\n",
       "    </tr>\n",
       "    <tr>\n",
       "      <th>23510</th>\n",
       "      <td>1465.0</td>\n",
       "      <td>823.0</td>\n",
       "      <td>257.0</td>\n",
       "      <td>71.0</td>\n",
       "      <td>0.587</td>\n",
       "      <td>218.0</td>\n",
       "      <td>77.0</td>\n",
       "      <td>1</td>\n",
       "      <td>0</td>\n",
       "      <td>1</td>\n",
       "    </tr>\n",
       "    <tr>\n",
       "      <th>29886</th>\n",
       "      <td>1658.0</td>\n",
       "      <td>265.0</td>\n",
       "      <td>111.0</td>\n",
       "      <td>27.0</td>\n",
       "      <td>0.648</td>\n",
       "      <td>215.0</td>\n",
       "      <td>76.0</td>\n",
       "      <td>1</td>\n",
       "      <td>0</td>\n",
       "      <td>1</td>\n",
       "    </tr>\n",
       "    <tr>\n",
       "      <th>17151</th>\n",
       "      <td>1009.0</td>\n",
       "      <td>267.0</td>\n",
       "      <td>170.0</td>\n",
       "      <td>13.0</td>\n",
       "      <td>0.555</td>\n",
       "      <td>195.0</td>\n",
       "      <td>76.0</td>\n",
       "      <td>1</td>\n",
       "      <td>0</td>\n",
       "      <td>1</td>\n",
       "    </tr>\n",
       "    <tr>\n",
       "      <th>18192</th>\n",
       "      <td>720.0</td>\n",
       "      <td>186.0</td>\n",
       "      <td>79.0</td>\n",
       "      <td>11.0</td>\n",
       "      <td>0.590</td>\n",
       "      <td>207.0</td>\n",
       "      <td>77.0</td>\n",
       "      <td>1</td>\n",
       "      <td>0</td>\n",
       "      <td>1</td>\n",
       "    </tr>\n",
       "  </tbody>\n",
       "</table>\n",
       "</div>"
      ],
      "text/plain": [
       "       points  total_rebounds  assists  blocks  true_shooting_percentage  \\\n",
       "17991   589.0           192.0     73.0    25.0                     0.633   \n",
       "23510  1465.0           823.0    257.0    71.0                     0.587   \n",
       "29886  1658.0           265.0    111.0    27.0                     0.648   \n",
       "17151  1009.0           267.0    170.0    13.0                     0.555   \n",
       "18192   720.0           186.0     79.0    11.0                     0.590   \n",
       "\n",
       "       weight  height  target  position_Forward  position_Guard  \n",
       "17991   195.0    77.0       1                 0               1  \n",
       "23510   218.0    77.0       1                 0               1  \n",
       "29886   215.0    76.0       1                 0               1  \n",
       "17151   195.0    76.0       1                 0               1  \n",
       "18192   207.0    77.0       1                 0               1  "
      ]
     },
     "execution_count": 3,
     "metadata": {},
     "output_type": "execute_result"
    }
   ],
   "source": [
    "df.head()"
   ]
  },
  {
   "cell_type": "markdown",
   "metadata": {},
   "source": [
    "First things we should do is normalizing our data.. Which i didnt do in the data cleaning portion. We will be normalizing because our feature are scaled differently. For example points( total points a player score in his career) can go north of 1000 but weight is limit to < ~300."
   ]
  },
  {
   "cell_type": "code",
   "execution_count": 4,
   "metadata": {},
   "outputs": [
    {
     "data": {
      "text/html": [
       "<div>\n",
       "<style scoped>\n",
       "    .dataframe tbody tr th:only-of-type {\n",
       "        vertical-align: middle;\n",
       "    }\n",
       "\n",
       "    .dataframe tbody tr th {\n",
       "        vertical-align: top;\n",
       "    }\n",
       "\n",
       "    .dataframe thead th {\n",
       "        text-align: right;\n",
       "    }\n",
       "</style>\n",
       "<table border=\"1\" class=\"dataframe\">\n",
       "  <thead>\n",
       "    <tr style=\"text-align: right;\">\n",
       "      <th></th>\n",
       "      <th>points</th>\n",
       "      <th>total_rebounds</th>\n",
       "      <th>assists</th>\n",
       "      <th>blocks</th>\n",
       "      <th>true_shooting_percentage</th>\n",
       "      <th>weight</th>\n",
       "      <th>height</th>\n",
       "      <th>target</th>\n",
       "      <th>position_Forward</th>\n",
       "      <th>position_Guard</th>\n",
       "    </tr>\n",
       "  </thead>\n",
       "  <tbody>\n",
       "    <tr>\n",
       "      <th>17991</th>\n",
       "      <td>0.186209</td>\n",
       "      <td>0.112110</td>\n",
       "      <td>0.075103</td>\n",
       "      <td>0.044326</td>\n",
       "      <td>0.823729</td>\n",
       "      <td>0.264706</td>\n",
       "      <td>0.50</td>\n",
       "      <td>1.0</td>\n",
       "      <td>0.0</td>\n",
       "      <td>1.0</td>\n",
       "    </tr>\n",
       "    <tr>\n",
       "      <th>23510</th>\n",
       "      <td>0.464569</td>\n",
       "      <td>0.490408</td>\n",
       "      <td>0.264403</td>\n",
       "      <td>0.125887</td>\n",
       "      <td>0.745763</td>\n",
       "      <td>0.400000</td>\n",
       "      <td>0.50</td>\n",
       "      <td>1.0</td>\n",
       "      <td>0.0</td>\n",
       "      <td>1.0</td>\n",
       "    </tr>\n",
       "    <tr>\n",
       "      <th>29886</th>\n",
       "      <td>0.525898</td>\n",
       "      <td>0.155875</td>\n",
       "      <td>0.114198</td>\n",
       "      <td>0.047872</td>\n",
       "      <td>0.849153</td>\n",
       "      <td>0.382353</td>\n",
       "      <td>0.45</td>\n",
       "      <td>1.0</td>\n",
       "      <td>0.0</td>\n",
       "      <td>1.0</td>\n",
       "    </tr>\n",
       "    <tr>\n",
       "      <th>17151</th>\n",
       "      <td>0.319670</td>\n",
       "      <td>0.157074</td>\n",
       "      <td>0.174897</td>\n",
       "      <td>0.023050</td>\n",
       "      <td>0.691525</td>\n",
       "      <td>0.264706</td>\n",
       "      <td>0.45</td>\n",
       "      <td>1.0</td>\n",
       "      <td>0.0</td>\n",
       "      <td>1.0</td>\n",
       "    </tr>\n",
       "    <tr>\n",
       "      <th>18192</th>\n",
       "      <td>0.227836</td>\n",
       "      <td>0.108513</td>\n",
       "      <td>0.081276</td>\n",
       "      <td>0.019504</td>\n",
       "      <td>0.750847</td>\n",
       "      <td>0.335294</td>\n",
       "      <td>0.50</td>\n",
       "      <td>1.0</td>\n",
       "      <td>0.0</td>\n",
       "      <td>1.0</td>\n",
       "    </tr>\n",
       "  </tbody>\n",
       "</table>\n",
       "</div>"
      ],
      "text/plain": [
       "         points  total_rebounds   assists    blocks  true_shooting_percentage  \\\n",
       "17991  0.186209        0.112110  0.075103  0.044326                  0.823729   \n",
       "23510  0.464569        0.490408  0.264403  0.125887                  0.745763   \n",
       "29886  0.525898        0.155875  0.114198  0.047872                  0.849153   \n",
       "17151  0.319670        0.157074  0.174897  0.023050                  0.691525   \n",
       "18192  0.227836        0.108513  0.081276  0.019504                  0.750847   \n",
       "\n",
       "         weight  height  target  position_Forward  position_Guard  \n",
       "17991  0.264706    0.50     1.0               0.0             1.0  \n",
       "23510  0.400000    0.50     1.0               0.0             1.0  \n",
       "29886  0.382353    0.45     1.0               0.0             1.0  \n",
       "17151  0.264706    0.45     1.0               0.0             1.0  \n",
       "18192  0.335294    0.50     1.0               0.0             1.0  "
      ]
     },
     "execution_count": 4,
     "metadata": {},
     "output_type": "execute_result"
    }
   ],
   "source": [
    "#Normalizing the data , Formula Xi - X.min / X.max - X.min\n",
    "\n",
    "df = df.apply(lambda x: (x - x.min(axis=0)) / (x.max(axis=0) - x.min(axis=0)))\n",
    "df.head()"
   ]
  },
  {
   "cell_type": "code",
   "execution_count": 5,
   "metadata": {},
   "outputs": [],
   "source": [
    "# split the data \n",
    "\n",
    "X_train,x_test,y_train,y_test = train_test_split(df.drop('target',axis=1),df['target'],random_state=0,test_size=0.33)\n",
    "\n",
    "# X_train : training data,\n",
    "# x_test : testing data,\n",
    "# y_train : target variable of training data\n",
    "# y_test : target variable of testing data"
   ]
  },
  {
   "cell_type": "markdown",
   "metadata": {},
   "source": [
    "## Logistic Regression"
   ]
  },
  {
   "cell_type": "code",
   "execution_count": 6,
   "metadata": {},
   "outputs": [
    {
     "data": {
      "text/plain": [
       "LogisticRegression(fit_intercept=False, random_state=4, solver='liblinear')"
      ]
     },
     "execution_count": 6,
     "metadata": {},
     "output_type": "execute_result"
    }
   ],
   "source": [
    "# logreg = LogisticRegression(fit_intercept=False,C=1e12,max_iter=2000)\n",
    "logreg = LogisticRegression(fit_intercept=False,solver='liblinear',random_state=4)\n",
    "model_log = logreg.fit(X_train,y_train)\n",
    "model_log"
   ]
  },
  {
   "cell_type": "code",
   "execution_count": 7,
   "metadata": {},
   "outputs": [],
   "source": [
    "# models predicted values\n",
    "logpred_test = logreg.predict(x_test)\n",
    "logpred_train = logreg.predict(X_train)"
   ]
  },
  {
   "cell_type": "code",
   "execution_count": 8,
   "metadata": {},
   "outputs": [
    {
     "name": "stdout",
     "output_type": "stream",
     "text": [
      "0.0    733\n",
      "1.0    286\n",
      "Name: target, dtype: int64\n",
      "0.0    0.719333\n",
      "1.0    0.280667\n",
      "Name: target, dtype: float64\n"
     ]
    }
   ],
   "source": [
    "# We could subtract the two columns. If values are equal, difference will be zero. Then count number of zeros \n",
    "\n",
    "residuals = np.abs(y_train - logpred_train)\n",
    "print(pd.Series(residuals).value_counts())\n",
    "print(pd.Series(residuals).value_counts(normalize=True))"
   ]
  },
  {
   "cell_type": "code",
   "execution_count": 9,
   "metadata": {},
   "outputs": [
    {
     "name": "stdout",
     "output_type": "stream",
     "text": [
      "0.0    362\n",
      "1.0    141\n",
      "Name: target, dtype: int64\n",
      "0.0    0.719682\n",
      "1.0    0.280318\n",
      "Name: target, dtype: float64\n"
     ]
    }
   ],
   "source": [
    "residuals = np.abs(y_test - logpred_test)\n",
    "print(pd.Series(residuals).value_counts())\n",
    "print(pd.Series(residuals).value_counts(normalize=True))"
   ]
  },
  {
   "cell_type": "markdown",
   "metadata": {},
   "source": [
    "Logistic Regression model was able to predict correctly ~76% in both our training and testing data"
   ]
  },
  {
   "cell_type": "code",
   "execution_count": 10,
   "metadata": {},
   "outputs": [
    {
     "data": {
      "text/plain": [
       "array([[360, 148],\n",
       "       [138, 373]], dtype=int64)"
      ]
     },
     "execution_count": 10,
     "metadata": {},
     "output_type": "execute_result"
    }
   ],
   "source": [
    "# cf on training data\n",
    "\n",
    "cf = confusion_matrix(y_train, logpred_train)\n",
    "cf"
   ]
  },
  {
   "cell_type": "code",
   "execution_count": 11,
   "metadata": {},
   "outputs": [
    {
     "data": {
      "image/png": "[encoded data removed]",
      "text/plain": [
       "<Figure size 432x288 with 2 Axes>"
      ]
     },
     "metadata": {
      "needs_background": "light"
     },
     "output_type": "display_data"
    }
   ],
   "source": [
    "# heat meat for vis\n",
    "plt.title('Train data')\n",
    "sns.heatmap(cf,annot=True,annot_kws={'size':16},fmt='g')\n",
    "plt.xlabel('Pred')\n",
    "plt.ylabel('Actual');"
   ]
  },
  {
   "cell_type": "code",
   "execution_count": 12,
   "metadata": {},
   "outputs": [
    {
     "data": {
      "text/plain": [
       "array([[168,  85],\n",
       "       [ 56, 194]], dtype=int64)"
      ]
     },
     "execution_count": 12,
     "metadata": {},
     "output_type": "execute_result"
    }
   ],
   "source": [
    "# cf on test data\n",
    "\n",
    "cf = confusion_matrix(y_test, logpred_test)\n",
    "cf"
   ]
  },
  {
   "cell_type": "code",
   "execution_count": 13,
   "metadata": {
    "scrolled": true
   },
   "outputs": [
    {
     "data": {
      "image/png": "[encoded data removed]",
      "text/plain": [
       "<Figure size 432x288 with 2 Axes>"
      ]
     },
     "metadata": {
      "needs_background": "light"
     },
     "output_type": "display_data"
    }
   ],
   "source": [
    "# heat meat for vis\n",
    "plt.title('Test data')\n",
    "sns.heatmap(cf,annot=True,annot_kws={'size':16},fmt='g')\n",
    "plt.xlabel('Pred')\n",
    "plt.ylabel('Actual');"
   ]
  },
  {
   "cell_type": "markdown",
   "metadata": {},
   "source": [
    "Focusing sololy on our testing data, the logistic regression model was able to correctly predict 362 players correctly(168 undrafted/194 drafted) and 121 incorrectly giving us an percision accuracy of ~72%."
   ]
  },
  {
   "cell_type": "code",
   "execution_count": 14,
   "metadata": {},
   "outputs": [
    {
     "name": "stdout",
     "output_type": "stream",
     "text": [
      "              precision    recall  f1-score   support\n",
      "\n",
      "         0.0       0.75      0.66      0.70       253\n",
      "         1.0       0.70      0.78      0.73       250\n",
      "\n",
      "    accuracy                           0.72       503\n",
      "   macro avg       0.72      0.72      0.72       503\n",
      "weighted avg       0.72      0.72      0.72       503\n",
      "\n",
      "Accuracy Score : 0.7196819085487077\n"
     ]
    }
   ],
   "source": [
    "# model evaluation\n",
    "\n",
    "print(classification_report(y_test,logpred_test))\n",
    "\n",
    "print('Accuracy Score : ' + str(accuracy_score(y_test,logpred_test)))"
   ]
  },
  {
   "cell_type": "code",
   "execution_count": 15,
   "metadata": {
    "scrolled": false
   },
   "outputs": [
    {
     "name": "stdout",
     "output_type": "stream",
     "text": [
      "AUC: 0.7999683794466403\n"
     ]
    },
    {
     "data": {
      "image/png": "[encoded data removed]",
      "text/plain": [
       "<Figure size 720x576 with 1 Axes>"
      ]
     },
     "metadata": {
      "needs_background": "light"
     },
     "output_type": "display_data"
    }
   ],
   "source": [
    "y_score = logreg.fit(X_train, y_train).decision_function(x_test)\n",
    "\n",
    "fpr, tpr, thresholds = roc_curve(y_test, y_score)\n",
    "\n",
    "print('AUC: {}'.format(auc(fpr, tpr)))\n",
    "\n",
    "plt.figure(figsize=(10, 8))\n",
    "lw = 2\n",
    "plt.plot(fpr, tpr, color='darkorange',\n",
    "         lw=lw, label='ROC curve')\n",
    "plt.plot([0, 1], [0, 1], color='navy', lw=lw, linestyle='--')\n",
    "plt.xlim([0.0, 1.0])\n",
    "plt.ylim([0.0, 1.05])\n",
    "plt.yticks([i/20.0 for i in range(21)])\n",
    "plt.xticks([i/20.0 for i in range(21)])\n",
    "plt.xlabel('False Positive Rate')\n",
    "plt.ylabel('True Positive Rate')\n",
    "plt.title('Receiver operating characteristic (ROC) Curve')\n",
    "plt.legend(loc='lower right')\n",
    "plt.show()"
   ]
  },
  {
   "cell_type": "markdown",
   "metadata": {},
   "source": [
    "### Grid Search to Improve Logistic Regression"
   ]
  },
  {
   "cell_type": "code",
   "execution_count": 16,
   "metadata": {
    "scrolled": false
   },
   "outputs": [
    {
     "name": "stdout",
     "output_type": "stream",
     "text": [
      " Best params - {'C': 25, 'penalty': 'l2'}\n",
      "              precision    recall  f1-score   support\n",
      "\n",
      "         0.0       0.79      0.79      0.79       253\n",
      "         1.0       0.79      0.79      0.79       250\n",
      "\n",
      "    accuracy                           0.79       503\n",
      "   macro avg       0.79      0.79      0.79       503\n",
      "weighted avg       0.79      0.79      0.79       503\n",
      "\n",
      "Accuracy Score : 0.7892644135188867\n"
     ]
    }
   ],
   "source": [
    "grid_values = {'penalty': ['l2'],'C':[0.001,.009,0.01,.09,1,5,10,25]}\n",
    "\n",
    "grid_clf_acc = GridSearchCV(LogisticRegression(), param_grid = grid_values,scoring = 'accuracy')\n",
    "\n",
    "grid_clf_acc.fit(X_train, y_train)\n",
    "\n",
    "print(f' Best params - {grid_clf_acc.best_params_}')\n",
    "\n",
    "#Predict values based on new parameters\n",
    "y_pred_acc = grid_clf_acc.predict(x_test)\n",
    "\n",
    "# New Model Evaluation metrics \n",
    "\n",
    "print(classification_report(y_test,y_pred_acc))\n",
    "print('Accuracy Score : ' + str(accuracy_score(y_test,y_pred_acc)))"
   ]
  },
  {
   "cell_type": "code",
   "execution_count": 17,
   "metadata": {},
   "outputs": [
    {
     "data": {
      "image/png": "[encoded data removed]",
      "text/plain": [
       "<Figure size 432x288 with 2 Axes>"
      ]
     },
     "metadata": {
      "needs_background": "light"
     },
     "output_type": "display_data"
    }
   ],
   "source": [
    "#Logistic Regression (Grid Search) Confusion matrix\n",
    "\n",
    "plot_confusion_matrix(grid_clf_acc,x_test,y_test,display_labels=['Undrafted','Drafted'])\n",
    "plt.xlabel('Pred')\n",
    "plt.ylabel('Actual');"
   ]
  },
  {
   "cell_type": "code",
   "execution_count": 18,
   "metadata": {},
   "outputs": [
    {
     "data": {
      "text/html": [
       "<div>\n",
       "<style scoped>\n",
       "    .dataframe tbody tr th:only-of-type {\n",
       "        vertical-align: middle;\n",
       "    }\n",
       "\n",
       "    .dataframe tbody tr th {\n",
       "        vertical-align: top;\n",
       "    }\n",
       "\n",
       "    .dataframe thead th {\n",
       "        text-align: right;\n",
       "    }\n",
       "</style>\n",
       "<table border=\"1\" class=\"dataframe\">\n",
       "  <thead>\n",
       "    <tr style=\"text-align: right;\">\n",
       "      <th></th>\n",
       "      <th>precision</th>\n",
       "      <th>recall</th>\n",
       "      <th>f1-score</th>\n",
       "      <th>support</th>\n",
       "    </tr>\n",
       "  </thead>\n",
       "  <tbody>\n",
       "    <tr>\n",
       "      <th>0.0</th>\n",
       "      <td>0.790514</td>\n",
       "      <td>0.790514</td>\n",
       "      <td>0.790514</td>\n",
       "      <td>253.000000</td>\n",
       "    </tr>\n",
       "    <tr>\n",
       "      <th>1.0</th>\n",
       "      <td>0.788000</td>\n",
       "      <td>0.788000</td>\n",
       "      <td>0.788000</td>\n",
       "      <td>250.000000</td>\n",
       "    </tr>\n",
       "    <tr>\n",
       "      <th>accuracy</th>\n",
       "      <td>0.789264</td>\n",
       "      <td>0.789264</td>\n",
       "      <td>0.789264</td>\n",
       "      <td>0.789264</td>\n",
       "    </tr>\n",
       "    <tr>\n",
       "      <th>macro avg</th>\n",
       "      <td>0.789257</td>\n",
       "      <td>0.789257</td>\n",
       "      <td>0.789257</td>\n",
       "      <td>503.000000</td>\n",
       "    </tr>\n",
       "    <tr>\n",
       "      <th>weighted avg</th>\n",
       "      <td>0.789264</td>\n",
       "      <td>0.789264</td>\n",
       "      <td>0.789264</td>\n",
       "      <td>503.000000</td>\n",
       "    </tr>\n",
       "  </tbody>\n",
       "</table>\n",
       "</div>"
      ],
      "text/plain": [
       "              precision    recall  f1-score     support\n",
       "0.0            0.790514  0.790514  0.790514  253.000000\n",
       "1.0            0.788000  0.788000  0.788000  250.000000\n",
       "accuracy       0.789264  0.789264  0.789264    0.789264\n",
       "macro avg      0.789257  0.789257  0.789257  503.000000\n",
       "weighted avg   0.789264  0.789264  0.789264  503.000000"
      ]
     },
     "execution_count": 18,
     "metadata": {},
     "output_type": "execute_result"
    }
   ],
   "source": [
    "log_report = classification_report(y_test,y_pred_acc,output_dict=True)\n",
    "log = pd.DataFrame(log_report).transpose()\n",
    "log"
   ]
  },
  {
   "cell_type": "code",
   "execution_count": 19,
   "metadata": {},
   "outputs": [
    {
     "name": "stdout",
     "output_type": "stream",
     "text": [
      "AUC: 0.8784031620553361\n"
     ]
    },
    {
     "data": {
      "image/png": "[encoded data removed]",
      "text/plain": [
       "<Figure size 720x576 with 1 Axes>"
      ]
     },
     "metadata": {
      "needs_background": "light"
     },
     "output_type": "display_data"
    }
   ],
   "source": [
    "y_score = grid_clf_acc.fit(X_train, y_train).decision_function(x_test)\n",
    "\n",
    "fpr, tpr, thresholds = roc_curve(y_test, y_score)\n",
    "\n",
    "print('AUC: {}'.format(auc(fpr, tpr)))\n",
    "\n",
    "plt.figure(figsize=(10, 8))\n",
    "lw = 2\n",
    "plt.plot(fpr, tpr, color='darkorange',\n",
    "         lw=lw, label='ROC curve')\n",
    "plt.plot([0, 1], [0, 1], color='navy', lw=lw, linestyle='--')\n",
    "plt.xlim([0.0, 1.0])\n",
    "plt.ylim([0.0, 1.05])\n",
    "plt.yticks([i/20.0 for i in range(21)])\n",
    "plt.xticks([i/20.0 for i in range(21)])\n",
    "plt.xlabel('False Positive Rate')\n",
    "plt.ylabel('True Positive Rate')\n",
    "plt.title('Receiver operating characteristic (ROC) Curve')\n",
    "plt.legend(loc='lower right')\n",
    "plt.show()"
   ]
  },
  {
   "cell_type": "markdown",
   "metadata": {},
   "source": [
    "## Decision Tree"
   ]
  },
  {
   "cell_type": "code",
   "execution_count": 20,
   "metadata": {},
   "outputs": [
    {
     "data": {
      "text/plain": [
       "DecisionTreeClassifier(random_state=4)"
      ]
     },
     "execution_count": 20,
     "metadata": {},
     "output_type": "execute_result"
    }
   ],
   "source": [
    "# Create the classifier, fit it on the training data and make predictions on the test set\n",
    "clf = DecisionTreeClassifier(random_state=4)\n",
    "\n",
    "clf.fit(X_train, y_train)"
   ]
  },
  {
   "cell_type": "code",
   "execution_count": 21,
   "metadata": {},
   "outputs": [
    {
     "data": {
      "image/png": "[encoded data removed]",
      "text/plain": [
       "<Figure size 432x288 with 2 Axes>"
      ]
     },
     "metadata": {
      "needs_background": "light"
     },
     "output_type": "display_data"
    }
   ],
   "source": [
    "plot_confusion_matrix(clf,x_test,y_test,display_labels=['Undrafted','Drafted'])\n",
    "\n",
    "plt.xlabel('Pred')\n",
    "plt.ylabel('Actual');"
   ]
  },
  {
   "cell_type": "code",
   "execution_count": 22,
   "metadata": {
    "scrolled": true
   },
   "outputs": [
    {
     "data": {
      "text/plain": [
       "0.7256461232604374"
      ]
     },
     "execution_count": 22,
     "metadata": {},
     "output_type": "execute_result"
    }
   ],
   "source": [
    "clf.score(x_test,y_test)"
   ]
  },
  {
   "cell_type": "code",
   "execution_count": 23,
   "metadata": {},
   "outputs": [],
   "source": [
    "path = clf.cost_complexity_pruning_path(X_train,y_train)\n",
    "ccp_alphas = path.ccp_alphas\n",
    "ccp_alphas = ccp_alphas[:-1]\n",
    "\n",
    "lst = []\n",
    "\n",
    "for i in ccp_alphas:\n",
    "    \"\"\"\n",
    "    loops through an array of alpha values and uses it as a parameter for a decision tree model and append the fitted model to an\n",
    "    empty list\n",
    "    \"\"\"\n",
    "    clf = DecisionTreeClassifier(random_state=4, ccp_alpha=i)\n",
    "    clf.fit(X_train,y_train)\n",
    "    lst.append(clf)"
   ]
  },
  {
   "cell_type": "code",
   "execution_count": 24,
   "metadata": {},
   "outputs": [
    {
     "data": {
      "image/png": "[encoded data removed]",
      "text/plain": [
       "<Figure size 720x720 with 1 Axes>"
      ]
     },
     "metadata": {
      "needs_background": "light"
     },
     "output_type": "display_data"
    }
   ],
   "source": [
    "# plot the scores for training v testing\n",
    "\n",
    "train_scores = [i.score(X_train,y_train) for i in lst]\n",
    "test_scores = [i.score(x_test,y_test) for i in lst]\n",
    "\n",
    "fig,ax = plt.subplots(figsize=(10,10))\n",
    "ax.plot(ccp_alphas,train_scores)\n",
    "ax.plot(ccp_alphas,test_scores)\n",
    "ax.set_ylabel('Accuracy')\n",
    "ax.set_xlabel('Alpha')\n",
    "ax.legend(['Train','Test']);"
   ]
  },
  {
   "cell_type": "markdown",
   "metadata": {},
   "source": [
    "Rough estimate, it seems like the best accuracy for testing data would be alpha = 0.0025 "
   ]
  },
  {
   "cell_type": "code",
   "execution_count": 25,
   "metadata": {},
   "outputs": [
    {
     "data": {
      "image/png": "[encoded data removed]",
      "text/plain": [
       "<Figure size 432x288 with 2 Axes>"
      ]
     },
     "metadata": {
      "needs_background": "light"
     },
     "output_type": "display_data"
    }
   ],
   "source": [
    "clf = DecisionTreeClassifier(random_state=4,ccp_alpha=0.0025)\n",
    "clf.fit(X_train,y_train)\n",
    "\n",
    "plot_confusion_matrix(clf,x_test,y_test,display_labels=['Undrafted','Drafted']);"
   ]
  },
  {
   "cell_type": "code",
   "execution_count": 26,
   "metadata": {},
   "outputs": [
    {
     "data": {
      "text/plain": [
       "0.7375745526838966"
      ]
     },
     "execution_count": 26,
     "metadata": {},
     "output_type": "execute_result"
    }
   ],
   "source": [
    "# mean accuracy\n",
    "\n",
    "clf.score(x_test,y_test)"
   ]
  },
  {
   "cell_type": "code",
   "execution_count": 27,
   "metadata": {},
   "outputs": [],
   "source": [
    "dtreepred_test = clf.predict(x_test)"
   ]
  },
  {
   "cell_type": "code",
   "execution_count": 28,
   "metadata": {},
   "outputs": [
    {
     "data": {
      "text/html": [
       "<div>\n",
       "<style scoped>\n",
       "    .dataframe tbody tr th:only-of-type {\n",
       "        vertical-align: middle;\n",
       "    }\n",
       "\n",
       "    .dataframe tbody tr th {\n",
       "        vertical-align: top;\n",
       "    }\n",
       "\n",
       "    .dataframe thead th {\n",
       "        text-align: right;\n",
       "    }\n",
       "</style>\n",
       "<table border=\"1\" class=\"dataframe\">\n",
       "  <thead>\n",
       "    <tr style=\"text-align: right;\">\n",
       "      <th></th>\n",
       "      <th>precision</th>\n",
       "      <th>recall</th>\n",
       "      <th>f1-score</th>\n",
       "      <th>support</th>\n",
       "    </tr>\n",
       "  </thead>\n",
       "  <tbody>\n",
       "    <tr>\n",
       "      <th>0.0</th>\n",
       "      <td>0.784038</td>\n",
       "      <td>0.660079</td>\n",
       "      <td>0.716738</td>\n",
       "      <td>253.000000</td>\n",
       "    </tr>\n",
       "    <tr>\n",
       "      <th>1.0</th>\n",
       "      <td>0.703448</td>\n",
       "      <td>0.816000</td>\n",
       "      <td>0.755556</td>\n",
       "      <td>250.000000</td>\n",
       "    </tr>\n",
       "    <tr>\n",
       "      <th>accuracy</th>\n",
       "      <td>0.737575</td>\n",
       "      <td>0.737575</td>\n",
       "      <td>0.737575</td>\n",
       "      <td>0.737575</td>\n",
       "    </tr>\n",
       "    <tr>\n",
       "      <th>macro avg</th>\n",
       "      <td>0.743743</td>\n",
       "      <td>0.738040</td>\n",
       "      <td>0.736147</td>\n",
       "      <td>503.000000</td>\n",
       "    </tr>\n",
       "    <tr>\n",
       "      <th>weighted avg</th>\n",
       "      <td>0.743983</td>\n",
       "      <td>0.737575</td>\n",
       "      <td>0.736031</td>\n",
       "      <td>503.000000</td>\n",
       "    </tr>\n",
       "  </tbody>\n",
       "</table>\n",
       "</div>"
      ],
      "text/plain": [
       "              precision    recall  f1-score     support\n",
       "0.0            0.784038  0.660079  0.716738  253.000000\n",
       "1.0            0.703448  0.816000  0.755556  250.000000\n",
       "accuracy       0.737575  0.737575  0.737575    0.737575\n",
       "macro avg      0.743743  0.738040  0.736147  503.000000\n",
       "weighted avg   0.743983  0.737575  0.736031  503.000000"
      ]
     },
     "execution_count": 28,
     "metadata": {},
     "output_type": "execute_result"
    }
   ],
   "source": [
    "dtree_report = classification_report(y_test,dtreepred_test,output_dict=True)\n",
    "dtree = pd.DataFrame(dtree_report).transpose()\n",
    "dtree"
   ]
  },
  {
   "cell_type": "markdown",
   "metadata": {},
   "source": [
    "## Support Vector Machine"
   ]
  },
  {
   "cell_type": "code",
   "execution_count": 29,
   "metadata": {},
   "outputs": [],
   "source": [
    "svm = SVC(random_state=4)"
   ]
  },
  {
   "cell_type": "code",
   "execution_count": 30,
   "metadata": {
    "scrolled": false
   },
   "outputs": [
    {
     "data": {
      "text/plain": [
       "SVC(random_state=4)"
      ]
     },
     "execution_count": 30,
     "metadata": {},
     "output_type": "execute_result"
    }
   ],
   "source": [
    "svm.fit(X_train,y_train)"
   ]
  },
  {
   "cell_type": "code",
   "execution_count": 31,
   "metadata": {},
   "outputs": [
    {
     "data": {
      "image/png": "[encoded data removed]",
      "text/plain": [
       "<Figure size 432x288 with 2 Axes>"
      ]
     },
     "metadata": {
      "needs_background": "light"
     },
     "output_type": "display_data"
    }
   ],
   "source": [
    "plot_confusion_matrix(svm,x_test,y_test,display_labels=['Undrafted','Drafted'])\n",
    "plt.xlabel('Pred')\n",
    "plt.ylabel('Actual');"
   ]
  },
  {
   "cell_type": "code",
   "execution_count": 32,
   "metadata": {},
   "outputs": [
    {
     "data": {
      "text/plain": [
       "0.7872763419483101"
      ]
     },
     "execution_count": 32,
     "metadata": {},
     "output_type": "execute_result"
    }
   ],
   "source": [
    "svm.score(x_test,y_test)"
   ]
  },
  {
   "cell_type": "markdown",
   "metadata": {},
   "source": [
    "### Cross Validation and GridSearchCV()"
   ]
  },
  {
   "cell_type": "code",
   "execution_count": 33,
   "metadata": {
    "scrolled": true
   },
   "outputs": [
    {
     "data": {
      "text/plain": [
       "{'C': 1000, 'gamma': 0.1}"
      ]
     },
     "execution_count": 33,
     "metadata": {},
     "output_type": "execute_result"
    }
   ],
   "source": [
    "param_grid = [{'C': [0.5,10,100,1000],\n",
    "               'gamma' : [1,0.1,0.001,0.0001]}]\n",
    "\n",
    "optimal_params = GridSearchCV(SVC(),param_grid,cv=5,scoring='accuracy')\n",
    "\n",
    "optimal_params.fit(X_train,y_train)\n",
    "optimal_params.best_params_"
   ]
  },
  {
   "cell_type": "markdown",
   "metadata": {},
   "source": [
    "This tells us that we will get our best results by setting the params of our SVC model to C = 1000 and gamma = 0.1"
   ]
  },
  {
   "cell_type": "code",
   "execution_count": 34,
   "metadata": {},
   "outputs": [
    {
     "data": {
      "text/plain": [
       "SVC(C=1000, gamma=0.1, random_state=4)"
      ]
     },
     "execution_count": 34,
     "metadata": {},
     "output_type": "execute_result"
    }
   ],
   "source": [
    "# Train another support vector machine with the optimized params\n",
    "\n",
    "svm_optimized = SVC(random_state=4,C=1000,gamma=0.1)\n",
    "svm_optimized.fit(X_train,y_train)"
   ]
  },
  {
   "cell_type": "code",
   "execution_count": 35,
   "metadata": {},
   "outputs": [
    {
     "data": {
      "image/png": "[encoded data removed]",
      "text/plain": [
       "<Figure size 432x288 with 2 Axes>"
      ]
     },
     "metadata": {
      "needs_background": "light"
     },
     "output_type": "display_data"
    }
   ],
   "source": [
    "plot_confusion_matrix(svm_optimized,x_test,y_test,display_labels=['Undrafted','Drafted']);"
   ]
  },
  {
   "cell_type": "code",
   "execution_count": 36,
   "metadata": {},
   "outputs": [
    {
     "data": {
      "text/plain": [
       "0.7952286282306164"
      ]
     },
     "execution_count": 36,
     "metadata": {},
     "output_type": "execute_result"
    }
   ],
   "source": [
    "svm_optimized.score(x_test,y_test)"
   ]
  },
  {
   "cell_type": "code",
   "execution_count": 37,
   "metadata": {},
   "outputs": [
    {
     "data": {
      "text/html": [
       "<div>\n",
       "<style scoped>\n",
       "    .dataframe tbody tr th:only-of-type {\n",
       "        vertical-align: middle;\n",
       "    }\n",
       "\n",
       "    .dataframe tbody tr th {\n",
       "        vertical-align: top;\n",
       "    }\n",
       "\n",
       "    .dataframe thead th {\n",
       "        text-align: right;\n",
       "    }\n",
       "</style>\n",
       "<table border=\"1\" class=\"dataframe\">\n",
       "  <thead>\n",
       "    <tr style=\"text-align: right;\">\n",
       "      <th></th>\n",
       "      <th>precision</th>\n",
       "      <th>recall</th>\n",
       "      <th>f1-score</th>\n",
       "      <th>support</th>\n",
       "    </tr>\n",
       "  </thead>\n",
       "  <tbody>\n",
       "    <tr>\n",
       "      <th>0.0</th>\n",
       "      <td>0.817797</td>\n",
       "      <td>0.762846</td>\n",
       "      <td>0.789366</td>\n",
       "      <td>253.000000</td>\n",
       "    </tr>\n",
       "    <tr>\n",
       "      <th>1.0</th>\n",
       "      <td>0.775281</td>\n",
       "      <td>0.828000</td>\n",
       "      <td>0.800774</td>\n",
       "      <td>250.000000</td>\n",
       "    </tr>\n",
       "    <tr>\n",
       "      <th>accuracy</th>\n",
       "      <td>0.795229</td>\n",
       "      <td>0.795229</td>\n",
       "      <td>0.795229</td>\n",
       "      <td>0.795229</td>\n",
       "    </tr>\n",
       "    <tr>\n",
       "      <th>macro avg</th>\n",
       "      <td>0.796539</td>\n",
       "      <td>0.795423</td>\n",
       "      <td>0.795070</td>\n",
       "      <td>503.000000</td>\n",
       "    </tr>\n",
       "    <tr>\n",
       "      <th>weighted avg</th>\n",
       "      <td>0.796666</td>\n",
       "      <td>0.795229</td>\n",
       "      <td>0.795036</td>\n",
       "      <td>503.000000</td>\n",
       "    </tr>\n",
       "  </tbody>\n",
       "</table>\n",
       "</div>"
      ],
      "text/plain": [
       "              precision    recall  f1-score     support\n",
       "0.0            0.817797  0.762846  0.789366  253.000000\n",
       "1.0            0.775281  0.828000  0.800774  250.000000\n",
       "accuracy       0.795229  0.795229  0.795229    0.795229\n",
       "macro avg      0.796539  0.795423  0.795070  503.000000\n",
       "weighted avg   0.796666  0.795229  0.795036  503.000000"
      ]
     },
     "execution_count": 37,
     "metadata": {},
     "output_type": "execute_result"
    }
   ],
   "source": [
    "svmpred_test = svm_optimized.predict(x_test)\n",
    "\n",
    "svm_report = classification_report(y_test,svmpred_test,output_dict=True)\n",
    "supp = pd.DataFrame(svm_report).transpose()\n",
    "supp"
   ]
  },
  {
   "cell_type": "markdown",
   "metadata": {},
   "source": [
    "### Model Evaluation"
   ]
  },
  {
   "cell_type": "code",
   "execution_count": 38,
   "metadata": {},
   "outputs": [
    {
     "data": {
      "text/html": [
       "<div>\n",
       "<style scoped>\n",
       "    .dataframe tbody tr th:only-of-type {\n",
       "        vertical-align: middle;\n",
       "    }\n",
       "\n",
       "    .dataframe tbody tr th {\n",
       "        vertical-align: top;\n",
       "    }\n",
       "\n",
       "    .dataframe thead th {\n",
       "        text-align: right;\n",
       "    }\n",
       "</style>\n",
       "<table border=\"1\" class=\"dataframe\">\n",
       "  <thead>\n",
       "    <tr style=\"text-align: right;\">\n",
       "      <th></th>\n",
       "      <th>Logistic Regression</th>\n",
       "      <th>Decision Tree</th>\n",
       "      <th>SVM</th>\n",
       "    </tr>\n",
       "  </thead>\n",
       "  <tbody>\n",
       "    <tr>\n",
       "      <th>precision</th>\n",
       "      <td>0.789264</td>\n",
       "      <td>0.737575</td>\n",
       "      <td>0.795229</td>\n",
       "    </tr>\n",
       "    <tr>\n",
       "      <th>recall</th>\n",
       "      <td>0.789264</td>\n",
       "      <td>0.737575</td>\n",
       "      <td>0.795229</td>\n",
       "    </tr>\n",
       "    <tr>\n",
       "      <th>f1-score</th>\n",
       "      <td>0.789264</td>\n",
       "      <td>0.737575</td>\n",
       "      <td>0.795229</td>\n",
       "    </tr>\n",
       "    <tr>\n",
       "      <th>support</th>\n",
       "      <td>0.789264</td>\n",
       "      <td>0.737575</td>\n",
       "      <td>0.795229</td>\n",
       "    </tr>\n",
       "  </tbody>\n",
       "</table>\n",
       "</div>"
      ],
      "text/plain": [
       "           Logistic Regression  Decision Tree       SVM\n",
       "precision             0.789264       0.737575  0.795229\n",
       "recall                0.789264       0.737575  0.795229\n",
       "f1-score              0.789264       0.737575  0.795229\n",
       "support               0.789264       0.737575  0.795229"
      ]
     },
     "execution_count": 38,
     "metadata": {},
     "output_type": "execute_result"
    }
   ],
   "source": [
    "accuracy_df = pd.concat([log.loc['accuracy'],dtree.loc['accuracy'],supp.loc['accuracy']],axis=1,)\n",
    "accuracy_df.columns = ['Logistic Regression','Decision Tree','SVM']\n",
    "\n",
    "accuracy_df"
   ]
  },
  {
   "cell_type": "markdown",
   "metadata": {},
   "source": [
    "Our new optimized model did a little better than the orginal in terms of accuracy. But if we compare the confusion matrix\n",
    "there was an increase of false positive which is important in our case. I dont believe an increase of 1% accuracy is a good trade off for and increase of undrafted players thats were predicted as drafted so the optimized model, although more accurate, wouldnt benefit us as much."
   ]
  }
 ],
 "metadata": {
  "kernelspec": {
   "display_name": "Python 3",
   "language": "python",
   "name": "python3"
  },
  "language_info": {
   "codemirror_mode": {
    "name": "ipython",
    "version": 3
   },
   "file_extension": ".py",
   "mimetype": "text/x-python",
   "name": "python",
   "nbconvert_exporter": "python",
   "pygments_lexer": "ipython3",
   "version": "3.8.3"
  }
 },
 "nbformat": 4,
 "nbformat_minor": 4
}
